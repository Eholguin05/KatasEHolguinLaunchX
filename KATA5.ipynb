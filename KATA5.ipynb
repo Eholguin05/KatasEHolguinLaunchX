{
 "cells": [
  {
   "cell_type": "markdown",
   "metadata": {},
   "source": [
    "Kata 5 - Ejercicio 1"
   ]
  },
  {
   "cell_type": "code",
   "execution_count": null,
   "metadata": {},
   "outputs": [],
   "source": [
    "first_planet = 149597870\n",
    "second_planet = 778547200\n",
    "\n",
    "distance_km = second_planet - first_planet\n",
    "print(distance_km)\n",
    "\n",
    "distance_mi = distance_km * 0.621\n",
    "round (distance_mi)"
   ]
  },
  {
   "cell_type": "markdown",
   "metadata": {},
   "source": [
    "Ejercicio 2\n",
    "\n",
    "Planeta\tDistancia al sol\n",
    "Mercurio\t57900000\n",
    "Venus\t108200000\n",
    "Tierra\t149600000\n",
    "Marte\t227900000\n",
    "Júpiter\t778600000\n",
    "Saturno\t1433500000\n",
    "Urano\t2872500000\n",
    "Neptuno\t4495100000"
   ]
  },
  {
   "cell_type": "code",
   "execution_count": 15,
   "metadata": {},
   "outputs": [
    {
     "name": "stdout",
     "output_type": "stream",
     "text": [
      "50300000\n",
      "41400000\n",
      "78300000\n",
      "550700000\n",
      "654900000\n",
      "1439000000\n",
      "1622600000\n",
      "31236300.0\n",
      "25709400.0\n",
      "48624300.0\n",
      "341984700.0\n",
      "406692900.0\n",
      "893619000.0\n",
      "1007634600.0\n"
     ]
    }
   ],
   "source": [
    "first_planet = input('Introduzca la distancia del sol para el primer planeta en KM')\n",
    "second_planet = input('Introduzca la distancia desde el sol para el segundo planeta en KM')\n",
    "third_planet = input('Introduzca la distancia desde el sol para el tercero planeta en KM')\n",
    "fourth_planet = input('Introduzca la distancia desde el sol para el cuarto planeta en KM')\n",
    "fifth_planet = input('Introduzca la distancia desde el sol para el quinto planeta en KM')\n",
    "sixth_planet = input('Introduzca la distancia desde el sol para el sexto planeta en KM')\n",
    "seventh_planet = input('Introduzca la distancia desde el sol para el septimo planeta en KM')\n",
    "eighth_planet = input('Introduzca la distancia desde el sol para el octavo planeta en KM')\n",
    "\n",
    "first_planet = int(first_planet)\n",
    "second_planet = int(second_planet)\n",
    "third_planet = int(third_planet)\n",
    "fourth_planet = int(fourth_planet)\n",
    "fifth_planet = int(fifth_planet)\n",
    "sixth_planet = int(sixth_planet)\n",
    "seventh_planet = int(seventh_planet)\n",
    "eighth_planet =int(eighth_planet)\n",
    "\n",
    "distance_km1 = second_planet - first_planet\n",
    "distance_km2 = third_planet - second_planet\n",
    "distance_km3 = fourth_planet - third_planet\n",
    "distance_km4 = fifth_planet - fourth_planet\n",
    "distance_km5 = sixth_planet - fifth_planet\n",
    "distance_km6 = seventh_planet - sixth_planet\n",
    "distance_km7 = eighth_planet - seventh_planet\n",
    "\n",
    "print(distance_km1)\n",
    "print(distance_km2)\n",
    "print(distance_km3)\n",
    "print(distance_km4)\n",
    "print(distance_km5)\n",
    "print(distance_km6)\n",
    "print(distance_km7)\n",
    "\n",
    "\n",
    "distance_mi1 = distance_km1 * 0.621\n",
    "distance_mi2 = distance_km2 * 0.621\n",
    "distance_mi3= distance_km3 * 0.621\n",
    "distance_mi4 = distance_km4 * 0.621\n",
    "distance_mi5 = distance_km5 * 0.621\n",
    "distance_mi6 = distance_km6 * 0.621\n",
    "distance_mi7 = distance_km7 * 0.621\n",
    "\n",
    "\n",
    "print(abs(distance_mi1))\n",
    "print(abs(distance_mi2))\n",
    "print(abs(distance_mi3))\n",
    "print(abs(distance_mi4))\n",
    "print(abs(distance_mi5))\n",
    "print(abs(distance_mi6))\n",
    "print(abs(distance_mi7))\n",
    "\n"
   ]
  }
 ],
 "metadata": {
  "interpreter": {
   "hash": "fdba475605e678b11e505fc151218844eb306b4841b28cdddda43168c2151d35"
  },
  "kernelspec": {
   "display_name": "Python 3.10.2 64-bit",
   "language": "python",
   "name": "python3"
  },
  "language_info": {
   "codemirror_mode": {
    "name": "ipython",
    "version": 3
   },
   "file_extension": ".py",
   "mimetype": "text/x-python",
   "name": "python",
   "nbconvert_exporter": "python",
   "pygments_lexer": "ipython3",
   "version": "3.10.2"
  },
  "orig_nbformat": 4
 },
 "nbformat": 4,
 "nbformat_minor": 2
}
